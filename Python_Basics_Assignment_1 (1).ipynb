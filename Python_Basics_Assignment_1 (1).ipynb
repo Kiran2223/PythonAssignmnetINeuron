{
 "cells": [
  {
   "cell_type": "markdown",
   "id": "d826b2c7",
   "metadata": {},
   "source": [
    "## 1. In the below elements which of them are values or an expression? eg:- values can be integer or string and expressions will be mathematical operators."
   ]
  },
  {
   "cell_type": "markdown",
   "id": "8c2cb105",
   "metadata": {},
   "source": [
    "\n",
    "    *       ---> It is a Expression (Multiplication)\n",
    "    \"Hello\" ---> It is a Value (String)\n",
    "    -87.8   ---> It is a value (Float)\n",
    "    -       ---> It is a Expression (Subtraction)\n",
    "    /       ---> It is a Expresion (Division)\n",
    "    +       ---> It is a Expresion (Addition)\n",
    "    6       ---> It is a value (Int)\n",
    "\n"
   ]
  },
  {
   "cell_type": "markdown",
   "id": "7b5f6e0c",
   "metadata": {},
   "source": [
    "## 2. What is the difference between string and variable?\n",
    "\n",
    "String: \n",
    "    Anything inside the quotes (single or double) are considered as string. It is a data type.\n",
    "    \n",
    "    Ex. a = 'dsfj'  or a = '25'  \n",
    "         \n",
    "Variable:\n",
    "    Variable is a name defined to store or access the data. It can be defined for any kind of data\n",
    "    \n",
    "    Ex. a = 100  or a = 'kp'  here a is called as variable"
   ]
  },
  {
   "cell_type": "markdown",
   "id": "df3aecee",
   "metadata": {},
   "source": [
    "## 3. Describe three different data types.\n",
    "\n",
    "    1. Numeric : It can have only numbers.\n",
    "        i.  int can hold whole numbers.\n",
    "        ii. Float stores decimal values.\n",
    "        iii. Complex types are denoted by real and imaginary part.\n",
    "    \n",
    "    2. String : Anything inside the single or double quotes are considered as string.\n",
    "    3. Boolean : It has only 2 possible outputs. That is either true or false. This types is used to compare 2 values.\n",
    "        "
   ]
  },
  {
   "cell_type": "markdown",
   "id": "4ce4f5d9",
   "metadata": {},
   "source": [
    "## 4. What is an expression made up of? What do all expressions do?\n",
    "\n",
    "Experssions are combination of operators and operends used to get calculated value. N opernds can have N-1 operators.\n",
    "\n",
    "        Ex. a + b   Here a and b are operends, + is a operator.\n",
    "\n",
    "All experssions will calculate and produce values.\n"
   ]
  },
  {
   "cell_type": "markdown",
   "id": "42bd5c5f",
   "metadata": {},
   "source": [
    "## 5. This assignment statements, like spam = 10. What is the difference between an expression and a statement?\n",
    "\n",
    "Assignment operators will assign value to the variable. Assigned value can be referred or called using variable name.\n",
    "\n",
    "Expression will take 2 or more varibales and do mathematical calculations and produce a calculated value in the output."
   ]
  },
  {
   "cell_type": "markdown",
   "id": "69039e93",
   "metadata": {},
   "source": [
    "## 6. After running the following code, what does the variable bacon contain?\n"
   ]
  },
  {
   "cell_type": "code",
   "execution_count": 9,
   "id": "8a57ad29",
   "metadata": {},
   "outputs": [
    {
     "data": {
      "text/plain": [
       "23"
      ]
     },
     "execution_count": 9,
     "metadata": {},
     "output_type": "execute_result"
    }
   ],
   "source": [
    "bacon = 22\n",
    "bacon + 1\n",
    "\n",
    "# bacon contains 22, because 22 is assigned to bacon, we can see it line 1.\n",
    "\n",
    "# in the line 2, bacon value is added by 1 and prints 23. It wont affect the value in the bacon."
   ]
  },
  {
   "cell_type": "markdown",
   "id": "e22d746e",
   "metadata": {},
   "source": [
    "## 7. What should the values of the following two terms be?\n",
    "\n",
    "The values of the following two terms are same for both. Output is 'spamspamspam' for 2 terms"
   ]
  },
  {
   "cell_type": "code",
   "execution_count": 11,
   "id": "29032f5f",
   "metadata": {},
   "outputs": [
    {
     "data": {
      "text/plain": [
       "'spamspamspam'"
      ]
     },
     "execution_count": 11,
     "metadata": {},
     "output_type": "execute_result"
    }
   ],
   "source": [
    "'spam' + 'spamspam' # here it is adding 2 string "
   ]
  },
  {
   "cell_type": "code",
   "execution_count": 12,
   "id": "83906c15",
   "metadata": {},
   "outputs": [
    {
     "data": {
      "text/plain": [
       "'spamspamspam'"
      ]
     },
     "execution_count": 12,
     "metadata": {},
     "output_type": "execute_result"
    }
   ],
   "source": [
    "'spam' * 3   # here string1 is multiplied with 3,"
   ]
  },
  {
   "cell_type": "markdown",
   "id": "5e65b130",
   "metadata": {},
   "source": [
    "## 8. Why is eggs a valid variable name while 100 is invalid?\n",
    "\n",
    "In python variable names should start with either characters or underscore. Variable names cannot start with numbers or special character except underscore.\n",
    "\n"
   ]
  },
  {
   "cell_type": "code",
   "execution_count": null,
   "id": "671b6d20",
   "metadata": {},
   "outputs": [],
   "source": []
  }
 ],
 "metadata": {
  "kernelspec": {
   "display_name": "Python 3 (ipykernel)",
   "language": "python",
   "name": "python3"
  },
  "language_info": {
   "codemirror_mode": {
    "name": "ipython",
    "version": 3
   },
   "file_extension": ".py",
   "mimetype": "text/x-python",
   "name": "python",
   "nbconvert_exporter": "python",
   "pygments_lexer": "ipython3",
   "version": "3.9.12"
  }
 },
 "nbformat": 4,
 "nbformat_minor": 5
}
